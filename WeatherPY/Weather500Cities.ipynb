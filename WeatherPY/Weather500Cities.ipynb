{
 "cells": [
  {
   "cell_type": "code",
   "execution_count": 45,
   "metadata": {},
   "outputs": [
    {
     "ename": "ImportError",
     "evalue": "cannot import name 'api_key'",
     "output_type": "error",
     "traceback": [
      "\u001b[1;31m---------------------------------------------------------------------------\u001b[0m",
      "\u001b[1;31mImportError\u001b[0m                               Traceback (most recent call last)",
      "\u001b[1;32m<ipython-input-45-1efbf002b675>\u001b[0m in \u001b[0;36m<module>\u001b[1;34m()\u001b[0m\n\u001b[0;32m      1\u001b[0m \u001b[1;31m#Import Dependencies\u001b[0m\u001b[1;33m\u001b[0m\u001b[1;33m\u001b[0m\u001b[0m\n\u001b[1;32m----> 2\u001b[1;33m \u001b[1;32mfrom\u001b[0m \u001b[0mconfig\u001b[0m \u001b[1;32mimport\u001b[0m \u001b[0mapi_key\u001b[0m\u001b[1;33m\u001b[0m\u001b[0m\n\u001b[0m\u001b[0;32m      3\u001b[0m \u001b[1;32mfrom\u001b[0m \u001b[0mcitipy\u001b[0m \u001b[1;32mimport\u001b[0m \u001b[0mcitipy\u001b[0m\u001b[1;33m\u001b[0m\u001b[0m\n\u001b[0;32m      4\u001b[0m \u001b[1;33m\u001b[0m\u001b[0m\n\u001b[0;32m      5\u001b[0m \u001b[1;32mimport\u001b[0m \u001b[0mrandom\u001b[0m\u001b[1;33m\u001b[0m\u001b[0m\n",
      "\u001b[1;31mImportError\u001b[0m: cannot import name 'api_key'"
     ]
    }
   ],
   "source": [
    "#Import Dependencies\n",
    "from config import api_key\n",
    "from citipy import citipy\n",
    "\n",
    "import random\n",
    "import requests\n",
    "\n",
    "import pandas as pd\n",
    "import numpy as np\n",
    "\n",
    "import matplotlib.pyplot as plt\n",
    "\n",
    "import matplotlib\n",
    "\n",
    "#Set style for plots\n",
    "plt.style.use(\"seaborn\")"
   ]
  },
  {
   "cell_type": "code",
   "execution_count": 32,
   "metadata": {},
   "outputs": [],
   "source": [
    "#Set Lat & Lon zones to randomly pick coordinates\n",
    "lat_zone = np.arange(-90,90,15)\n",
    "lon_zone = np.arange(-200,200,15)\n",
    "\n",
    "\n",
    "#Create data frame to hold random coordinates and city\n",
    "cities_df = pd.DataFrame()\n",
    "\n",
    "cities_df[\"Latitude\"] = \"\"\n",
    "cities_df[\"Longitude\"] = \"\"\n",
    "\n",
    "#Randomly select 50 coordinates and add to dataframe\n",
    "for x in lat_zone:\n",
    "    for y in lon_zone:\n",
    "        x_values = list(np.arange(x,x+15,0.01))\n",
    "        y_values = list(np.arange(y,y+15,0.01))\n",
    "        lats = random.sample(x_values,50)\n",
    "        lons = random.sample(y_values,50)\n",
    "        lat_samples = [(x+dec_lat) for dec_lat in lats]\n",
    "        lon_samples = [y+dec_lon for dec_lon in lons]\n",
    "        cities_df = cities_df.append(pd.DataFrame.from_dict({\"Latitude\":lat_samples,\n",
    "                                       \"Longitude\":lon_samples}))\n",
    "cities_df = cities_df.reset_index(drop=True)\n",
    "cities_df.shape"
   ]
  },
  {
   "cell_type": "code",
   "execution_count": 33,
   "metadata": {},
   "outputs": [],
   "source": [
    "#For selected coordinates, use citipy to associate them with nearest city.\n",
    "\n",
    "cities_df[\"Closest City name\"] = \"\"\n",
    "cities_df[\"Closest Country code\"] = \"\"\n",
    "for index,row in cities_df.iterrows():\n",
    "    city = citipy.nearest_city(row[\"Latitude\"],row[\"Longitude\"])\n",
    "    cities_df.set_value(index,\"Closest City name\",city.city_name)\n",
    "    cities_df.set_value(index,\"Closest Country code\",city.country_code)"
   ]
  },
  {
   "cell_type": "code",
   "execution_count": null,
   "metadata": {},
   "outputs": [],
   "source": [
    "#Random lat and lon samples from dataframe \n",
    "\n",
    "clean_cities_df = cities_df.drop(['Latitude', 'Longitude'],axis=1)\n",
    "clean_cities_df\n",
    "\n",
    "#Remove duplicate cities\n",
    "clean_cities_df = clean_cities_df.drop_duplicates()\n",
    "\n",
    "clean_cities_df.shape"
   ]
  },
  {
   "cell_type": "code",
   "execution_count": null,
   "metadata": {},
   "outputs": [],
   "source": [
    "#Select random sample 500 cities\n",
    "selected_cities = clean_cities_df.sample(500)\n",
    "\n",
    "selected_cities = selected_cities.reset_index(drop=True)"
   ]
  },
  {
   "cell_type": "code",
   "execution_count": null,
   "metadata": {},
   "outputs": [],
   "source": [
    "#OpenWeatherMap API calls\n",
    "base_url = \"http://api.openweathermap.org/data/2.5/weather\"\n",
    "\n",
    "app_id = api_keys[\"open_weather_map_common\"]\n",
    "\n",
    "params = { \"appid\" :app_id,\"units\":\"imperial\" }"
   ]
  },
  {
   "cell_type": "code",
   "execution_count": null,
   "metadata": {},
   "outputs": [],
   "source": [
    "#Weather response \n",
    "def encrypt_key(input_url):\n",
    "    return input_url[0:53]+\"<YourKey>\"+input_url[85:]\n",
    "\n",
    "for index,row in selected_cities.iterrows():\n",
    "    params[\"q\"] =f'{row[\"Closest City name\"]},{row[\"Closest Country code\"]}'\n",
    "    print(f\"Retrieving weather information for {params['q']}\")\n",
    "    city_weather_resp = requests.get(base_url,params)\n",
    "    print(encrypt_key(city_weather_resp.url))\n",
    "    city_weather_resp  = city_weather_resp.json()\n",
    "    selected_cities.set_value(index,\"Latitude\",city_weather_resp.get(\"coord\",{}).get(\"lat\"))\n",
    "    selected_cities.set_value(index,\"Longitude\",city_weather_resp.get(\"coord\",{}).get(\"lon\"))\n",
    "    selected_cities.set_value(index,\"Temperature\",city_weather_resp.get(\"main\",{}).get(\"temp_max\"))\n",
    "    selected_cities.set_value(index,\"Wind speed\",city_weather_resp.get(\"wind\",{}).get(\"speed\"))\n",
    "    selected_cities.set_value(index,\"Humidity\",city_weather_resp.get(\"main\",{}).get(\"humidity\"))\n",
    "    selected_cities.set_value(index,\"Cloudiness\",city_weather_resp.get(\"clouds\",{}).get(\"all\"))"
   ]
  },
  {
   "cell_type": "code",
   "execution_count": null,
   "metadata": {},
   "outputs": [],
   "source": [
    "#Remove cities with missing weather \n",
    "selected_cities = selected_cities.dropna()\n",
    "\n",
    "selected_cities.shape\n",
    "selected_cities.to_csv(\"City_Weather_data.csv\")"
   ]
  },
  {
   "cell_type": "code",
   "execution_count": null,
   "metadata": {},
   "outputs": [],
   "source": [
    "#Plot settings\n",
    "def set_plot_prop(x_title,x_lim,y_title):\n",
    "    plt.title(f\"{y_title} vs {x_title}\")\n",
    "    plt.ylabel(y_title)\n",
    "    plt.xlabel(x_title)\n",
    "    plt.grid(True)\n",
    "    plt.xlim(x_lim)"
   ]
  },
  {
   "cell_type": "code",
   "execution_count": null,
   "metadata": {},
   "outputs": [],
   "source": [
    "#Temperature vs Latitude \n",
    "selected_cities.plot(kind=\"scatter\",x=\"Latitude\",y=\"Temperature\",grid=True,color=\"blue\")\n",
    "\n",
    "set_plot_prop(\"Latitude\",[-90,90],\"Temperature (Fahrenheit)\")\n",
    "plt.axvline(0, color='black',alpha=0.5)\n",
    "plt.savefig(\"Temperature vs Latitude\")\n",
    "plt.show()"
   ]
  },
  {
   "cell_type": "code",
   "execution_count": null,
   "metadata": {},
   "outputs": [],
   "source": [
    "#Humidity vs Latitude \n",
    "selected_cities.plot(kind=\"scatter\",x=\"Latitude\",y=\"Humidity\",grid=True,color=\"blue\")\n",
    "\n",
    "set_plot_prop(\"Latitude\",[-90,90],\"Humidity\")\n",
    "plt.axvline(0, color='black',alpha=0.5)\n",
    "plt.savefig(\"Humidity vs Latitude\")\n",
    "plt.show()"
   ]
  },
  {
   "cell_type": "code",
   "execution_count": null,
   "metadata": {},
   "outputs": [],
   "source": [
    "#Wind Speed vs Latitude\n",
    "selected_cities[\"Wind speed\"] = pd.to_numeric(selected_cities[\"Wind speed\"])\n",
    "selected_cities.plot(kind=\"scatter\",x=\"Latitude\",y=\"Wind speed\",grid=True,color=\"blue\")\n",
    "\n",
    "set_plot_prop(\"Latitude\",[-90,90],\"Wind speed (mph)\")\n",
    "plt.axvline(0, color='black',alpha=0.5)\n",
    "plt.savefig(\"Wind speed vs Latitude\")\n",
    "plt.show()"
   ]
  },
  {
   "cell_type": "code",
   "execution_count": null,
   "metadata": {},
   "outputs": [],
   "source": [
    "#Cloudiness vs Latitude\n",
    "selected_cities[\"Cloudiness\"] = pd.to_numeric(selected_cities[\"Cloudiness\"])\n",
    "selected_cities.plot(kind=\"scatter\",x=\"Latitude\",y=\"Cloudiness\",grid=True,color=\"blue\")\n",
    "\n",
    "set_plot_prop(\"Latitude\",[-90,90],\"Cloudiness\")\n",
    "plt.axvline(0, color='black',alpha=0.5)\n",
    "plt.savefig(\"Cloudiness vs Latitude\")\n",
    "plt.show()"
   ]
  }
 ],
 "metadata": {
  "kernelspec": {
   "display_name": "Python [conda env:Anaconda3]",
   "language": "python",
   "name": "conda-env-Anaconda3-py"
  },
  "language_info": {
   "codemirror_mode": {
    "name": "ipython",
    "version": 3
   },
   "file_extension": ".py",
   "mimetype": "text/x-python",
   "name": "python",
   "nbconvert_exporter": "python",
   "pygments_lexer": "ipython3",
   "version": "3.6.4"
  }
 },
 "nbformat": 4,
 "nbformat_minor": 2
}
