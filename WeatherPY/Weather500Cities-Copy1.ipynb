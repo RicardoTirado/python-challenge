{
 "cells": [
  {
   "cell_type": "code",
   "execution_count": 3,
   "metadata": {},
   "outputs": [],
   "source": [
    "#Dependencies\n",
    "import numpy as np\n",
    "import pandas as pd\n",
    "import matplotlib.pyplot as plt\n",
    "import json\n",
    "import requests\n",
    "import time\n",
    "import random\n",
    "\n",
    "from citipy import citipy\n",
    "from matplotlib import style\n",
    "style.use('fivethirtyeight')\n",
    "\n",
    "#Google places API key\n",
    "from config import api_key"
   ]
  },
  {
   "cell_type": "code",
   "execution_count": null,
   "metadata": {},
   "outputs": [],
   "source": [
    "#Save config information\n",
    "url = \"http://api.openweathermap.org/data/2.5/weather?\"\n",
    "units = \"Imperial\""
   ]
  },
  {
   "cell_type": "code",
   "execution_count": null,
   "metadata": {},
   "outputs": [],
   "source": [
    "#Build partial query URL\n",
    "query_url = f\"{url}appid={api_key}&units={units}&q=\""
   ]
  },
  {
   "cell_type": "code",
   "execution_count": null,
   "metadata": {},
   "outputs": [],
   "source": [
    "#Randomly select 500 cities\n",
    "selected_cities = citipy.sample(n=500)\n",
    "\n",
    "#View selected cities\n",
    "selected_cities.head()"
   ]
  },
  {
   "cell_type": "code",
   "execution_count": null,
   "metadata": {},
   "outputs": [],
   "source": [
    "#Create blank columns for necessary fields\n",
    "selected_cities[\"City\"] = \"\"\n",
    "selected_cities[\"Latitude\"] = \"\"\n",
    "selected_cities[\"Temperature\"] = \"\"\n",
    "selected_cities[\"Humidity\"] = \"\"\n",
    "selected_cities[\"Cloudiness\"] = \"\"\n",
    "selected_cities[\"Wind Speed\"] = \"\""
   ]
  },
  {
   "cell_type": "code",
   "execution_count": null,
   "metadata": {},
   "outputs": [],
   "source": [
    "#List to hold responses\n",
    "name =[]\n",
    "lat = []\n",
    "temp = []\n",
    "humid = []\n",
    "clouds = []\n",
    "wind = []\n",
    "\n",
    "#Loop through cities, make API request, append results\n",
    "for city in selected_cities:\n",
    "    response = requests.get(query_url + city).json()\n",
    "    name.append(response['name'])\n",
    "    lat.append(response['coord']['lat'])\n",
    "    temp.append(response['main']['temp'])\n",
    "    humid.append(response['main']['humidity'])\n",
    "    clouds.append(response['clouds']['all'])\n",
    "    wind.append(response['wind']['speed'])\n",
    " \n",
    "#View selected cities\n",
    "selected_cities.head()"
   ]
  },
  {
   "cell_type": "code",
   "execution_count": null,
   "metadata": {},
   "outputs": [],
   "source": [
    "#Save DataFrame as csv file\n",
    "selected_cities.to_csv(\"output_analysis/500_cities.csv\", encoding=\"utf-8\", index=False)"
   ]
  },
  {
   "cell_type": "code",
   "execution_count": null,
   "metadata": {},
   "outputs": [],
   "source": [
    "#Build scatter plot - temperature vs latitude\n",
    "plt.scatter(selected_cities[\"lat\"], selected_cities[\"temp\"],\n",
    "            edgecolor=\"black\", linewidths=1, marker=\"o\")\n",
    "\n",
    "#Other graph properties\n",
    "plt.title(\"Temperature (F) vs Latitude\")\n",
    "plt.ylabel(\"Latitude\")\n",
    "plt.xlabel(\"Temperature\")\n",
    "plt.grid(True)\n",
    "\n",
    "# Save the figure\n",
    "plt.savefig(\"output_analysis/temp.png\")\n",
    "\n",
    "# Show plot\n",
    "plt.show()"
   ]
  },
  {
   "cell_type": "code",
   "execution_count": null,
   "metadata": {},
   "outputs": [],
   "source": [
    "#Build scatter plot - humidity vs latitude\n",
    "plt.scatter(selected_cities[\"lat\"], selected_cities[\"humid\"],\n",
    "            edgecolor=\"black\", linewidths=1, marker=\"o\")\n",
    "\n",
    "#Other graph properties\n",
    "plt.title(\"Hunidity (%) vs Latitude\")\n",
    "plt.ylabel(\"Latitude\")\n",
    "plt.xlabel(\"Humidity\")\n",
    "plt.grid(True)\n",
    "\n",
    "# Save the figure\n",
    "plt.savefig(\"output_analysis/humidity.png\")\n",
    "\n",
    "# Show plot\n",
    "plt.show()"
   ]
  },
  {
   "cell_type": "code",
   "execution_count": null,
   "metadata": {},
   "outputs": [],
   "source": [
    "#Build scatter plot - cloudiness vs latitude\n",
    "plt.scatter(selected_cities[\"lat\"], selected_cities[\"clouds\"],\n",
    "            edgecolor=\"black\", linewidths=1, marker=\"o\")\n",
    "\n",
    "#Other graph properties\n",
    "plt.title(\"Cloudiness (%) vs Latitude\")\n",
    "plt.ylabel(\"Latitude\")\n",
    "plt.xlabel(\"Cloudiness\")\n",
    "plt.grid(True)\n",
    "\n",
    "# Save the figure\n",
    "plt.savefig(\"output_analysis/cloudiness.png\")\n",
    "\n",
    "# Show plot\n",
    "plt.show()"
   ]
  },
  {
   "cell_type": "code",
   "execution_count": null,
   "metadata": {},
   "outputs": [],
   "source": [
    "#Build scatter plot - wind speed vs latitude\n",
    "plt.scatter(selected_cities[\"lat\"], selected_cities[\"wind\"],\n",
    "            edgecolor=\"black\", linewidths=1, marker=\"o\")\n",
    "\n",
    "#Other graph properties\n",
    "plt.title(\"Wind Speed (mph) vs Latitude\")\n",
    "plt.ylabel(\"Latitude\")\n",
    "plt.xlabel(\"Wind Speed\")\n",
    "plt.grid(True)\n",
    "\n",
    "# Save the figure\n",
    "plt.savefig(\"output_analysis/windspeed.png\")\n",
    "\n",
    "# Show plot\n",
    "plt.show()"
   ]
  }
 ],
 "metadata": {
  "kernelspec": {
   "display_name": "Python [conda env:Anaconda3]",
   "language": "python",
   "name": "conda-env-Anaconda3-py"
  },
  "language_info": {
   "codemirror_mode": {
    "name": "ipython",
    "version": 3
   },
   "file_extension": ".py",
   "mimetype": "text/x-python",
   "name": "python",
   "nbconvert_exporter": "python",
   "pygments_lexer": "ipython3",
   "version": "3.6.4"
  }
 },
 "nbformat": 4,
 "nbformat_minor": 2
}
