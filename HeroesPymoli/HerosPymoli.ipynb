{
 "cells": [
  {
   "cell_type": "code",
   "execution_count": 1,
   "metadata": {},
   "outputs": [],
   "source": [
    "#import libraries\n",
    "import pandas as pd\n",
    "import os"
   ]
  },
  {
   "cell_type": "code",
   "execution_count": 2,
   "metadata": {},
   "outputs": [],
   "source": [
    "#specify path to files\n",
    "data_dir = 'raw_data'\n",
    "players_csv = 'players.csv'\n",
    "items_csv = 'items.csv'\n",
    "purchases_csv = 'purchases.csv'\n",
    "\n",
    "#get OS specific path to files\n",
    "players_path = os.path.join(data_dir, players_csv)\n",
    "items_path = os.path.join(data_dir, items_csv)\n",
    "purchases_path = os.path.join(data_dir, purchases_csv)"
   ]
  },
  {
   "cell_type": "code",
   "execution_count": 3,
   "metadata": {},
   "outputs": [],
   "source": [
    "#read files as data frames\n",
    "players_df = pd.read_csv(players_path)\n",
    "items_df = pd.read_csv(items_path)\n",
    "purchases_df = pd.read_csv(purchases_path)"
   ]
  },
  {
   "cell_type": "code",
   "execution_count": 27,
   "metadata": {},
   "outputs": [],
   "source": [
    "#total number of players\n",
    "num_players = players_df['SN'].count()\n",
    "str_num_players = f\"{players_df['SN'].count():,}\""
   ]
  },
  {
   "cell_type": "code",
   "execution_count": 17,
   "metadata": {},
   "outputs": [
    {
     "data": {
      "text/html": [
       "<div>\n",
       "<style scoped>\n",
       "    .dataframe tbody tr th:only-of-type {\n",
       "        vertical-align: middle;\n",
       "    }\n",
       "\n",
       "    .dataframe tbody tr th {\n",
       "        vertical-align: top;\n",
       "    }\n",
       "\n",
       "    .dataframe thead th {\n",
       "        text-align: right;\n",
       "    }\n",
       "</style>\n",
       "<table border=\"1\" class=\"dataframe\">\n",
       "  <thead>\n",
       "    <tr style=\"text-align: right;\">\n",
       "      <th></th>\n",
       "      <th>Total Number of Players</th>\n",
       "    </tr>\n",
       "  </thead>\n",
       "  <tbody>\n",
       "    <tr>\n",
       "      <th>0</th>\n",
       "      <td>1163</td>\n",
       "    </tr>\n",
       "  </tbody>\n",
       "</table>\n",
       "</div>"
      ],
      "text/plain": [
       "   Total Number of Players\n",
       "0                     1163"
      ]
     },
     "execution_count": 17,
     "metadata": {},
     "output_type": "execute_result"
    }
   ],
   "source": [
    "player_count_tbl = pd.DataFrame({\"Total Number of Players\":[num_players]})\n",
    "player_count_tbl"
   ]
  },
  {
   "cell_type": "code",
   "execution_count": 30,
   "metadata": {},
   "outputs": [
    {
     "data": {
      "text/plain": [
       "190"
      ]
     },
     "execution_count": 30,
     "metadata": {},
     "output_type": "execute_result"
    }
   ],
   "source": [
    "#number of unique items \n",
    "num_items = len(items_df['Item ID'].unique())\n",
    "num_items"
   ]
  },
  {
   "cell_type": "raw",
   "metadata": {},
   "source": [
    "#Average Purchase Price\n",
    "avg_purchase_price = f\"${purchases_df['Price'].mean():.2f}\""
   ]
  },
  {
   "cell_type": "code",
   "execution_count": 34,
   "metadata": {},
   "outputs": [
    {
     "data": {
      "text/plain": [
       "78"
      ]
     },
     "execution_count": 34,
     "metadata": {},
     "output_type": "execute_result"
    }
   ],
   "source": [
    "# Total Number of Purchases\n",
    "num_purchases = purchases_df['Purchase ID'].count()\n",
    "num_purchases"
   ]
  },
  {
   "cell_type": "code",
   "execution_count": 35,
   "metadata": {},
   "outputs": [],
   "source": [
    "#total revenue\n",
    "revenue = f\"${purchases_df['Price'].sum():.2f}\""
   ]
  },
  {
   "cell_type": "code",
   "execution_count": 36,
   "metadata": {},
   "outputs": [
    {
     "ename": "NameError",
     "evalue": "name 'avg_purchase_price' is not defined",
     "output_type": "error",
     "traceback": [
      "\u001b[1;31m---------------------------------------------------------------------------\u001b[0m",
      "\u001b[1;31mNameError\u001b[0m                                 Traceback (most recent call last)",
      "\u001b[1;32m<ipython-input-36-d72c7b65df58>\u001b[0m in \u001b[0;36m<module>\u001b[1;34m()\u001b[0m\n\u001b[0;32m      1\u001b[0m purchase_summary_tbl = pd.DataFrame({\"Number of Unique Items\":[num_items],\n\u001b[1;32m----> 2\u001b[1;33m                                         \u001b[1;34m\"Average Purchase Price\"\u001b[0m\u001b[1;33m:\u001b[0m\u001b[1;33m[\u001b[0m\u001b[0mavg_purchase_price\u001b[0m\u001b[1;33m]\u001b[0m\u001b[1;33m,\u001b[0m\u001b[1;33m\u001b[0m\u001b[0m\n\u001b[0m\u001b[0;32m      3\u001b[0m                                         \u001b[1;34m\"Total Number of Purchases:\"\u001b[0m\u001b[1;33m:\u001b[0m\u001b[1;33m[\u001b[0m\u001b[0mnum_purchases\u001b[0m\u001b[1;33m]\u001b[0m\u001b[1;33m,\u001b[0m\u001b[1;33m\u001b[0m\u001b[0m\n\u001b[0;32m      4\u001b[0m                                         \"Total Revenue:\":[revenue]})\n\u001b[0;32m      5\u001b[0m \u001b[0mpurchase_summary_tbl\u001b[0m\u001b[1;33m\u001b[0m\u001b[0m\n",
      "\u001b[1;31mNameError\u001b[0m: name 'avg_purchase_price' is not defined"
     ]
    }
   ],
   "source": [
    "purchase_summary_tbl = pd.DataFrame({\"Number of Unique Items\":[num_items],\n",
    "                                        \"Average Purchase Price\":[avg_purchase_price],\n",
    "                                        \"Total Number of Purchases\":[num_purchases],\n",
    "                                        \"Total Revenue\":[revenue]})\n",
    "purchase_summary_tbl"
   ]
  },
  {
   "cell_type": "code",
   "execution_count": 37,
   "metadata": {},
   "outputs": [],
   "source": [
    "#percentage and count of male players\n",
    "male_players_cnt = players_df.loc[players_df['Gender'] == 'Male','Gender'].count()\n",
    "male_players_pct = 100 * male_players_cnt / num_players\n",
    "\n",
    "#display male players 2 decimal places\n",
    "str_male_players_pct = f\"{male_players_pct:.2f}%\""
   ]
  },
  {
   "cell_type": "code",
   "execution_count": 38,
   "metadata": {},
   "outputs": [],
   "source": [
    "#percentage and count of female players\n",
    "female_players_cnt = players_df.loc[players_df['Gender'] == 'Female','Gender'].count()\n",
    "female_players_pct = 100 * female_players_cnt / num_players\n",
    "\n",
    "#display female players 2 decimal places\n",
    "str_female_players_pct = f\"{female_players_pct:.2f}%\""
   ]
  },
  {
   "cell_type": "code",
   "execution_count": 39,
   "metadata": {},
   "outputs": [],
   "source": [
    "#percentage and count of other/non-disclosed players\n",
    "other_players_cnt = num_players - male_players_cnt - female_players_cnt\n",
    "other_players_pct = 100 * other_players_cnt / num_players\n",
    "\n",
    "#display other players 2 decimal places\n",
    "str_other_players_pct = f\"{other_players_pct:.2f}%\""
   ]
  },
  {
   "cell_type": "code",
   "execution_count": 40,
   "metadata": {},
   "outputs": [
    {
     "data": {
      "text/html": [
       "<div>\n",
       "<style scoped>\n",
       "    .dataframe tbody tr th:only-of-type {\n",
       "        vertical-align: middle;\n",
       "    }\n",
       "\n",
       "    .dataframe tbody tr th {\n",
       "        vertical-align: top;\n",
       "    }\n",
       "\n",
       "    .dataframe thead th {\n",
       "        text-align: right;\n",
       "    }\n",
       "</style>\n",
       "<table border=\"1\" class=\"dataframe\">\n",
       "  <thead>\n",
       "    <tr style=\"text-align: right;\">\n",
       "      <th></th>\n",
       "      <th>Count of Female Players</th>\n",
       "      <th>Count of Male Players</th>\n",
       "      <th>Count of Other / Non-Disclosed Players</th>\n",
       "      <th>Percentage of Female Players</th>\n",
       "      <th>Percentage of Male Players</th>\n",
       "      <th>Percentage of Other / Non-Disclosed Players</th>\n",
       "    </tr>\n",
       "  </thead>\n",
       "  <tbody>\n",
       "    <tr>\n",
       "      <th>0</th>\n",
       "      <td>187</td>\n",
       "      <td>954</td>\n",
       "      <td>22</td>\n",
       "      <td>16.08%</td>\n",
       "      <td>82.03%</td>\n",
       "      <td>1.89%</td>\n",
       "    </tr>\n",
       "  </tbody>\n",
       "</table>\n",
       "</div>"
      ],
      "text/plain": [
       "   Count of Female Players  Count of Male Players  \\\n",
       "0                      187                    954   \n",
       "\n",
       "   Count of Other / Non-Disclosed Players Percentage of Female Players  \\\n",
       "0                                      22                       16.08%   \n",
       "\n",
       "  Percentage of Male Players Percentage of Other / Non-Disclosed Players  \n",
       "0                     82.03%                                       1.89%  "
      ]
     },
     "execution_count": 40,
     "metadata": {},
     "output_type": "execute_result"
    }
   ],
   "source": [
    "players_summary_tbl = pd.DataFrame({\n",
    "    \"Count of Male Players\":[male_players_cnt],\n",
    "    \"Percentage of Male Players\":[str_male_players_pct],\n",
    "    \"Count of Female Players\":[female_players_cnt],\n",
    "    \"Percentage of Female Players\":[str_female_players_pct],\n",
    "    \"Count of Other / Non-Disclosed Players\":[other_players_cnt],\n",
    "    \"Percentage of Other / Non-Disclosed Players\":[str_other_players_pct]\n",
    "})\n",
    "\n",
    "players_summary_tbl"
   ]
  },
  {
   "cell_type": "code",
   "execution_count": 41,
   "metadata": {},
   "outputs": [
    {
     "data": {
      "text/plain": [
       "Gender\n",
       "Female                    554\n",
       "Male                     2431\n",
       "Other / Non-Disclosed      18\n",
       "Name: Purchase ID, dtype: int64"
      ]
     },
     "execution_count": 41,
     "metadata": {},
     "output_type": "execute_result"
    }
   ],
   "source": [
    "#purchase count by gender\n",
    "purchases_grp_df = purchases_df.groupby('Gender')\n",
    "purchases_grp_df['Purchase ID'].sum()"
   ]
  },
  {
   "cell_type": "code",
   "execution_count": 42,
   "metadata": {},
   "outputs": [
    {
     "data": {
      "text/plain": [
       "Gender\n",
       "Female                   3.183077\n",
       "Male                     2.884375\n",
       "Other / Non-Disclosed    2.120000\n",
       "Name: Price, dtype: float64"
      ]
     },
     "execution_count": 42,
     "metadata": {},
     "output_type": "execute_result"
    }
   ],
   "source": [
    "purchases_grp_df['Price'].mean()"
   ]
  },
  {
   "cell_type": "code",
   "execution_count": 43,
   "metadata": {},
   "outputs": [
    {
     "data": {
      "text/plain": [
       "Gender\n",
       "Female                    41.38\n",
       "Male                     184.60\n",
       "Other / Non-Disclosed      2.12\n",
       "Name: Price, dtype: float64"
      ]
     },
     "execution_count": 43,
     "metadata": {},
     "output_type": "execute_result"
    }
   ],
   "source": [
    "purchases_grp_df['Price'].sum()"
   ]
  }
 ],
 "metadata": {
  "kernelspec": {
   "display_name": "Python [conda env:PythonData]",
   "language": "python",
   "name": "conda-env-PythonData-py"
  },
  "language_info": {
   "codemirror_mode": {
    "name": "ipython",
    "version": 3
   },
   "file_extension": ".py",
   "mimetype": "text/x-python",
   "name": "python",
   "nbconvert_exporter": "python",
   "pygments_lexer": "ipython3",
   "version": "3.6.4"
  }
 },
 "nbformat": 4,
 "nbformat_minor": 2
}
